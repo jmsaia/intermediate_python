{
 "cells": [
  {
   "cell_type": "markdown",
   "id": "731d24b2",
   "metadata": {},
   "source": [
    "I certify that this project is my own work and is not the work of others. I agree not to share my solution with others. - John Saia"
   ]
  },
  {
   "cell_type": "code",
   "execution_count": 1,
   "id": "2e845117",
   "metadata": {},
   "outputs": [],
   "source": [
    "#import pandas and matplotlib library\n",
    "\n",
    "import pandas as pd\n",
    "import matplotlib.pyplot as plt"
   ]
  },
  {
   "cell_type": "code",
   "execution_count": 2,
   "id": "93499fe3",
   "metadata": {},
   "outputs": [
    {
     "data": {
      "text/plain": [
       "Tom      25\n",
       "Dick     50\n",
       "Harry    75\n",
       "dtype: int64"
      ]
     },
     "execution_count": 2,
     "metadata": {},
     "output_type": "execute_result"
    }
   ],
   "source": [
    "# define and show data series, age\n",
    "\n",
    "age = pd.Series({'Tom':25,'Dick':50,'Harry':75})\n",
    "\n",
    "age"
   ]
  },
  {
   "cell_type": "code",
   "execution_count": 3,
   "id": "22768ffe",
   "metadata": {},
   "outputs": [
    {
     "data": {
      "text/plain": [
       "Tom      150\n",
       "Dick     125\n",
       "Harry    175\n",
       "dtype: int64"
      ]
     },
     "execution_count": 3,
     "metadata": {},
     "output_type": "execute_result"
    }
   ],
   "source": [
    "# define and show data series, weight\n",
    "\n",
    "weight = pd.Series({'Tom':150,'Dick':125,'Harry':175})\n",
    "\n",
    "weight"
   ]
  },
  {
   "cell_type": "code",
   "execution_count": 4,
   "id": "8dba5dae",
   "metadata": {},
   "outputs": [
    {
     "data": {
      "text/plain": [
       "(array([0, 1, 2]),\n",
       " [Text(0, 0, 'Tom'), Text(1, 0, 'Dick'), Text(2, 0, 'Harry')])"
      ]
     },
     "execution_count": 4,
     "metadata": {},
     "output_type": "execute_result"
    },
    {
     "data": {
      "image/png": "[encoded data removed]",
      "text/plain": [
       "<Figure size 432x288 with 1 Axes>"
      ]
     },
     "metadata": {
      "needs_background": "light"
     },
     "output_type": "display_data"
    }
   ],
   "source": [
    "# create bar chart of age with a grid and title\n",
    "\n",
    "age.plot.bar(grid = True, title = \"Age\")\n",
    "plt.xticks(rotation = 0)"
   ]
  },
  {
   "cell_type": "code",
   "execution_count": 5,
   "id": "10d917e0",
   "metadata": {},
   "outputs": [
    {
     "data": {
      "text/plain": [
       "(array([0, 1, 2]),\n",
       " [Text(0, 0, 'Tom'), Text(1, 0, 'Dick'), Text(2, 0, 'Harry')])"
      ]
     },
     "execution_count": 5,
     "metadata": {},
     "output_type": "execute_result"
    },
    {
     "data": {
      "image/png": "[encoded data removed]",
      "text/plain": [
       "<Figure size 432x288 with 1 Axes>"
      ]
     },
     "metadata": {
      "needs_background": "light"
     },
     "output_type": "display_data"
    }
   ],
   "source": [
    "# create bar chart of weight with a grid and title\n",
    "\n",
    "weight.plot.bar(grid = True, title = \"Weight\")\n",
    "plt.xticks(rotation = 0)"
   ]
  },
  {
   "cell_type": "code",
   "execution_count": 6,
   "id": "38f5cd1d",
   "metadata": {},
   "outputs": [
    {
     "data": {
      "text/html": [
       "<div>\n",
       "<style scoped>\n",
       "    .dataframe tbody tr th:only-of-type {\n",
       "        vertical-align: middle;\n",
       "    }\n",
       "\n",
       "    .dataframe tbody tr th {\n",
       "        vertical-align: top;\n",
       "    }\n",
       "\n",
       "    .dataframe thead th {\n",
       "        text-align: right;\n",
       "    }\n",
       "</style>\n",
       "<table border=\"1\" class=\"dataframe\">\n",
       "  <thead>\n",
       "    <tr style=\"text-align: right;\">\n",
       "      <th></th>\n",
       "      <th>0</th>\n",
       "      <th>1</th>\n",
       "    </tr>\n",
       "  </thead>\n",
       "  <tbody>\n",
       "    <tr>\n",
       "      <th>Tom</th>\n",
       "      <td>25</td>\n",
       "      <td>150</td>\n",
       "    </tr>\n",
       "    <tr>\n",
       "      <th>Dick</th>\n",
       "      <td>50</td>\n",
       "      <td>125</td>\n",
       "    </tr>\n",
       "    <tr>\n",
       "      <th>Harry</th>\n",
       "      <td>75</td>\n",
       "      <td>175</td>\n",
       "    </tr>\n",
       "  </tbody>\n",
       "</table>\n",
       "</div>"
      ],
      "text/plain": [
       "        0    1\n",
       "Tom    25  150\n",
       "Dick   50  125\n",
       "Harry  75  175"
      ]
     },
     "execution_count": 6,
     "metadata": {},
     "output_type": "execute_result"
    }
   ],
   "source": [
    "# combine age and weight series to create a dataframe\n",
    "\n",
    "ageweight = pd.concat([age,weight],axis=1)\n",
    "ageweight"
   ]
  },
  {
   "cell_type": "code",
   "execution_count": 8,
   "id": "70854d61",
   "metadata": {},
   "outputs": [
    {
     "data": {
      "text/plain": [
       "<matplotlib.legend.Legend at 0x1cf93f15520>"
      ]
     },
     "execution_count": 8,
     "metadata": {},
     "output_type": "execute_result"
    },
    {
     "data": {
      "image/png": "[encoded data removed]",
      "text/plain": [
       "<Figure size 432x288 with 1 Axes>"
      ]
     },
     "metadata": {
      "needs_background": "light"
     },
     "output_type": "display_data"
    }
   ],
   "source": [
    "# create a bar chart of the dataframe of age and weight with a grid, title, and legend\n",
    "\n",
    "ageweight.plot.bar(grid = True, width = 0.6, title = \"John Saia\")\n",
    "plt.xticks(rotation = 0)\n",
    "plt.legend([\"Age\", \"Weight\"], loc = 9)"
   ]
  }
 ],
 "metadata": {
  "kernelspec": {
   "display_name": "Python 3 (ipykernel)",
   "language": "python",
   "name": "python3"
  },
  "language_info": {
   "codemirror_mode": {
    "name": "ipython",
    "version": 3
   },
   "file_extension": ".py",
   "mimetype": "text/x-python",
   "name": "python",
   "nbconvert_exporter": "python",
   "pygments_lexer": "ipython3",
   "version": "3.8.13"
  }
 },
 "nbformat": 4,
 "nbformat_minor": 5
}
