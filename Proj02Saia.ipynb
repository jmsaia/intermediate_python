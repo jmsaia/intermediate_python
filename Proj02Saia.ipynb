{
 "cells": [
  {
   "cell_type": "markdown",
   "id": "b769245c",
   "metadata": {},
   "source": [
    "# Proj02"
   ]
  },
  {
   "cell_type": "markdown",
   "id": "6018fe1f",
   "metadata": {},
   "source": [
    "Among other things, this project requires that you understand:\n",
    "\n",
    "- Unordered lists\n",
    "- Ordered lists\n",
    "- Tables\n",
    "- LaTex\n",
    "- How to display a figure"
   ]
  },
  {
   "cell_type": "markdown",
   "id": "30874581",
   "metadata": {},
   "source": [
    "# Table of contents"
   ]
  },
  {
   "cell_type": "markdown",
   "id": "c9098d25",
   "metadata": {},
   "source": [
    "- [Certification](#Certification)\n",
    "- [Lists](#Lists)\n",
    " - [Unordered lists](#Unordered-lists)\n",
    " - [Ordered lists](#Ordered-lists)\n",
    "- [Tables](#Tables)\n",
    "- [Display figure](#Display-figure)\n",
    " - [Import libraries](#Import-libraries)\n",
    " - [Display an equation in LaTex](#Display-an-equation-in-LaTex)\n",
    " - [Perform computations and plot](#Perform-computations-and-plot)"
   ]
  },
  {
   "cell_type": "markdown",
   "id": "62e64e39",
   "metadata": {},
   "source": [
    "# Certification"
   ]
  },
  {
   "cell_type": "markdown",
   "id": "5b778fe1",
   "metadata": {},
   "source": [
    "Your output file must contain the following certification:\n",
    ">I certify that this project is my own work and is not the work of others. I agree not to share my solution with others. - John Saia"
   ]
  },
  {
   "cell_type": "markdown",
   "id": "c3cedff7",
   "metadata": {},
   "source": [
    "# Lists"
   ]
  },
  {
   "cell_type": "markdown",
   "id": "32fc1ada",
   "metadata": {},
   "source": [
    "## Unordered lists"
   ]
  },
  {
   "cell_type": "markdown",
   "id": "fc9328b9",
   "metadata": {},
   "source": [
    "Make your notebook replicate the following unordered list.\n",
    "\n",
    "- Large\n",
    " - Bear\n",
    " - Elephant\n",
    " - Horse\n",
    "- Small\n",
    " - Dog\n",
    " - Tiny\n",
    "   - Mosquito\n",
    "   - Ant\n",
    " - Cat\n",
    " - Goat"
   ]
  },
  {
   "cell_type": "markdown",
   "id": "9c4ef289",
   "metadata": {},
   "source": [
    "# Ordered lists"
   ]
  },
  {
   "cell_type": "markdown",
   "id": "101cad3a",
   "metadata": {},
   "source": [
    "Make your notebook replicate the following ordered list.\n",
    "\n",
    "1. Large\n",
    "   1. Bear\n",
    "   1. Elephant\n",
    "   1. Horse\n",
    "1. Small\n",
    "   1. Dog\n",
    "   1. Tiny\n",
    "    1. Mosquito\n",
    "    1. Ant\n",
    "   1. Cat\n",
    "   1. Goat"
   ]
  },
  {
   "cell_type": "markdown",
   "id": "d0cb5c2f",
   "metadata": {},
   "source": [
    "# Tables"
   ]
  },
  {
   "cell_type": "markdown",
   "id": "fd591e48",
   "metadata": {},
   "source": [
    "Make your notebook replicate the following table. Depending on your system, your table may or may not have solid borders. Either is acceptable.\n",
    "\n",
    "Row | Column 1 | Column 2 | Column 3\n",
    ":---|:---------|:---------|:--------\n",
    "A   | A1       |A2        | A3        \n",
    "B   | B1       |B2        | B3      \n",
    "C   | C1       |C2        | C3      \n"
   ]
  },
  {
   "cell_type": "markdown",
   "id": "670fc60b",
   "metadata": {},
   "source": [
    "# Display figure"
   ]
  },
  {
   "cell_type": "markdown",
   "id": "98a49e88",
   "metadata": {},
   "source": [
    "## Import libraries"
   ]
  },
  {
   "cell_type": "code",
   "execution_count": 3,
   "id": "6fc5be08",
   "metadata": {},
   "outputs": [],
   "source": [
    "# For compatability, this magic command shoule be \n",
    "# in a code cell of its own ahead of the code in\n",
    "# the next cell.\n",
    "%matplotlib inline"
   ]
  },
  {
   "cell_type": "code",
   "execution_count": 4,
   "id": "717a9e01",
   "metadata": {},
   "outputs": [],
   "source": [
    "import numpy as np\n",
    "import matplotlib.pyplot as plt"
   ]
  },
  {
   "cell_type": "markdown",
   "id": "448a5d2c",
   "metadata": {},
   "source": [
    "## Display an equation in LaTex"
   ]
  },
  {
   "cell_type": "markdown",
   "id": "f37aace6",
   "metadata": {},
   "source": [
    "Display the following equation in LaTex.\n",
    "\n",
    "$$f(t)=exp(t)∗sin(2πt)$$"
   ]
  },
  {
   "cell_type": "markdown",
   "id": "4730fe93",
   "metadata": {},
   "source": [
    "## Perform computations and plot"
   ]
  },
  {
   "cell_type": "markdown",
   "id": "dfcdf99e",
   "metadata": {},
   "source": [
    "Compute values for and plot the equation shown above. This is a simplistic plot command. More complex plots will be required in future assignments. You can find instructions for producing those more comlex plots in the Study Guide.\n",
    "\n",
    "Note optional semicolon in the following code. This semicolon produces a somewhat cleaner output."
   ]
  },
  {
   "cell_type": "code",
   "execution_count": 5,
   "id": "048cce22",
   "metadata": {},
   "outputs": [
    {
     "data": {
      "image/png": "[encoded data removed]",
      "text/plain": [
       "<Figure size 432x288 with 1 Axes>"
      ]
     },
     "metadata": {
      "needs_background": "light"
     },
     "output_type": "display_data"
    }
   ],
   "source": [
    "t = np.arange(0, 6.0, 0.05)\n",
    "plt.plot(t, np.exp(t) * np.sin(2*np.pi*t));"
   ]
  },
  {
   "cell_type": "markdown",
   "id": "80d3c4c8",
   "metadata": {},
   "source": [
    "`## The End ##`"
   ]
  }
 ],
 "metadata": {
  "kernelspec": {
   "display_name": "Python 3 (ipykernel)",
   "language": "python",
   "name": "python3"
  },
  "language_info": {
   "codemirror_mode": {
    "name": "ipython",
    "version": 3
   },
   "file_extension": ".py",
   "mimetype": "text/x-python",
   "name": "python",
   "nbconvert_exporter": "python",
   "pygments_lexer": "ipython3",
   "version": "3.8.13"
  }
 },
 "nbformat": 4,
 "nbformat_minor": 5
}
