{
 "cells": [
  {
   "cell_type": "markdown",
   "id": "1d01dabb",
   "metadata": {},
   "source": [
    "I certify that this project is my own work and is not the work of others. I agree not to share my solution with others. - John Saia."
   ]
  },
  {
   "cell_type": "markdown",
   "id": "cce4c6a1",
   "metadata": {},
   "source": [
    "# How to Solve Linear Systems Systems with 3 Variables"
   ]
  },
  {
   "cell_type": "markdown",
   "id": "80826ff1",
   "metadata": {},
   "source": [
    "## Solve for the variables in this problem\n",
    "\n",
    "### 3x + 4y + 3z = 10\n",
    "### 9x - 10y - 10z = -11\n",
    "### 4x + 15y +18z = 37"
   ]
  },
  {
   "cell_type": "markdown",
   "id": "f3d49f82",
   "metadata": {},
   "source": [
    "## Solve for y (you can solve for any variable of your choice)"
   ]
  },
  {
   "cell_type": "markdown",
   "id": "8ffe4278",
   "metadata": {},
   "source": [
    "### First eliminate a variable of your choice other than y (x for this example) by muliplying the ENTIRE equation to cancel the choice variable out using two different equation combinations."
   ]
  },
  {
   "cell_type": "markdown",
   "id": "b0ad75f9",
   "metadata": {},
   "source": [
    "3x + 4y + 3z = 10 <br>\n",
    "9x - 10y - 10z = -11 <br>\n",
    "4x + 15y + 18z = 37 <br>\n",
    "\n",
    "3x + 4y + 3z = 10 *(multiplied by 3 to eliminate x)* <br><br>\n",
    "-9x - 12y - 9z  = -30  <br>\n",
    " 9x - 10y - 10z = -11 <br><br>\n",
    "*(add the equations together)*<br><br>\n",
    "-22y - 19z = -41 *(result)*<br>\n",
    "\n",
    "3x + 4y + 3z = 10 *(multiplied by 4 to eliminate x)* <br>\n",
    "4x + 15y + 18z = 37 *(multipled by -3 to eliminate x)* <br>\n",
    "\n",
    "12x + 16y + 12z =  40 <br>\n",
    "-12x - 45y - 54z = -111 <br><br>\n",
    "*(add the equations together)*<br><br>\n",
    "-29y - 42z = -71 *(result)*<br> \n",
    "\n",
    "**Your remaining equations** <br><br>\n",
    "-22y - 19z = -41 <br>\n",
    "-29y - 42z = -71 "
   ]
  },
  {
   "cell_type": "markdown",
   "id": "ebba8e8c",
   "metadata": {},
   "source": [
    "### With x eliminated, eliminate z for this example by multiplying the ENTIRE equation to cancel the variable out using the results of the last step"
   ]
  },
  {
   "cell_type": "markdown",
   "id": "0ff5c7c6",
   "metadata": {},
   "source": [
    "-22y - 19z = -41 *(multiplied by 42 to eliminate z)*  <br>\n",
    "-29y - 42z = -71 *(multiplied by 19 to eliminate z)* <br>\n",
    "\n",
    "924y + 798z =  1722 <br>\n",
    "-551y - 798z = -1349 <br><br>\n",
    "*(add equations together)* <br><br>\n",
    "373y = 373 *(result)*"
   ]
  },
  {
   "cell_type": "markdown",
   "id": "cb15edf6",
   "metadata": {},
   "source": [
    "### Solve the equation"
   ]
  },
  {
   "cell_type": "markdown",
   "id": "77818cb0",
   "metadata": {},
   "source": [
    "373y = 373 <br>\n",
    "y = 373/373 <br><br>\n",
    "**y = 1**"
   ]
  },
  {
   "cell_type": "markdown",
   "id": "7cb203b3",
   "metadata": {},
   "source": [
    "## Solve for z"
   ]
  },
  {
   "cell_type": "markdown",
   "id": "a0302fdb",
   "metadata": {},
   "source": [
    "### We can use the remaining equations from cancelling out x to solve for z"
   ]
  },
  {
   "cell_type": "markdown",
   "id": "62d692ef",
   "metadata": {},
   "source": [
    "-22y - 19z = -41 *(multiply by -29 to eliminate y)* <br>\n",
    "-29y - 42z = -71 *(multiply by 22 to eliminate y)* <br>\n",
    "\n",
    "638y + 551z =  1189 <br>\n",
    "-638y - 924z = -1562 <br><br>\n",
    "*(add equations together)* <br><br>\n",
    "-373z = -373 *(result)* <br>"
   ]
  },
  {
   "cell_type": "markdown",
   "id": "15d65f5c",
   "metadata": {},
   "source": [
    "### Solve the Equation"
   ]
  },
  {
   "cell_type": "markdown",
   "id": "ac70c20c",
   "metadata": {},
   "source": [
    "-373z = -373<br>\n",
    "z = -373/-373 <br><br>\n",
    "**z = 1** <br>"
   ]
  },
  {
   "cell_type": "markdown",
   "id": "b74cc9a2",
   "metadata": {},
   "source": [
    "## Solve for x"
   ]
  },
  {
   "cell_type": "markdown",
   "id": "e1d062aa",
   "metadata": {},
   "source": [
    "### Since you have solved for y and z (or two variables out of 3), you can plug those values into any equation to solve for x (the last variable)"
   ]
  },
  {
   "cell_type": "markdown",
   "id": "9d4c8ab4",
   "metadata": {},
   "source": [
    "3x + 4y + 3z = 10 *(insert y and z)* <br><br>\n",
    "3x + 4(1) + 3(1) = 10 <br>\n",
    "3x + 4 + 3 = 10 <br>\n",
    "3x + 7 = 10 <br>\n",
    "3x = 10 - 7 <br>\n",
    "3x = 3 <br>\n",
    "x =3/3 <br>\n",
    "\n",
    "**x = 1**"
   ]
  },
  {
   "cell_type": "markdown",
   "id": "3a89e2e6",
   "metadata": {},
   "source": [
    "## You have solved the equation!"
   ]
  },
  {
   "cell_type": "markdown",
   "id": "29f3ea4d",
   "metadata": {},
   "source": [
    "### The results:"
   ]
  },
  {
   "cell_type": "markdown",
   "id": "34a48533",
   "metadata": {},
   "source": [
    "x = 1 <br><br>\n",
    "\n",
    "y = 1 <br><br>\n",
    "\n",
    "z = 1"
   ]
  },
  {
   "cell_type": "markdown",
   "id": "2fe62faf",
   "metadata": {},
   "source": [
    "## Let's see how we'd check to see if the solution is right"
   ]
  },
  {
   "cell_type": "markdown",
   "id": "3aca1cba",
   "metadata": {},
   "source": [
    "### We only have to plug in the x, y, and z variable results then solve each side to make sure both are equal"
   ]
  },
  {
   "cell_type": "markdown",
   "id": "56468dde",
   "metadata": {},
   "source": [
    "3x + 4y + 3z = 10 *(plug in x, y, & z)*<br>\n",
    "9x - 10y - 10z = -11 *(plug in x, y, & z)*<br>\n",
    "4x + 15y + 18z = 37 *(plug in x, y, & z)*<br>\n",
    "\n",
    "3(1) + 4(1) + 3(1) = 10 <br>\n",
    "3 + 4 + 3 = 10 <br>\n",
    "7 + 3 = 10 <br>\n",
    "**10 = 10** <br>\n",
    "\n",
    "9(1) - 10(1) - 10(1) = -11<br>\n",
    "9 - 10 - 10 = -11<br>\n",
    "-1 - 10 = -11<br>\n",
    "**-11 = -11**<br>\n",
    "\n",
    "4(1) + 15(1) + 18(1) = 37<br>\n",
    "4 + 15 + 18 = 37<br>\n",
    "19 + 18 = 37<br>\n",
    "**37 = 37**"
   ]
  }
 ],
 "metadata": {
  "kernelspec": {
   "display_name": "Python 3 (ipykernel)",
   "language": "python",
   "name": "python3"
  },
  "language_info": {
   "codemirror_mode": {
    "name": "ipython",
    "version": 3
   },
   "file_extension": ".py",
   "mimetype": "text/x-python",
   "name": "python",
   "nbconvert_exporter": "python",
   "pygments_lexer": "ipython3",
   "version": "3.8.13"
  }
 },
 "nbformat": 4,
 "nbformat_minor": 5
}
