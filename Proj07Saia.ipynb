{
 "cells": [
  {
   "cell_type": "markdown",
   "id": "564ac031",
   "metadata": {},
   "source": [
    "I certify that this project is my own work and is not the work of others. I agree not to share my solution with others. - John Saia"
   ]
  },
  {
   "cell_type": "code",
   "execution_count": 1,
   "id": "40cbd13d",
   "metadata": {},
   "outputs": [],
   "source": [
    "# import libraries needed\n",
    "\n",
    "%matplotlib inline\n",
    "\n",
    "import pandas as pd\n",
    "import numpy as np\n",
    "import matplotlib.pyplot as plt"
   ]
  },
  {
   "cell_type": "code",
   "execution_count": 2,
   "id": "8acfd4ae",
   "metadata": {},
   "outputs": [
    {
     "data": {
      "text/plain": [
       "Date\n",
       "12/28/2015    2.244\n",
       "1/4/2016      2.250\n",
       "1/11/2016     2.224\n",
       "1/18/2016     2.131\n",
       "1/25/2016     2.076\n",
       "              ...  \n",
       "10/3/2022     4.188\n",
       "10/10/2022    4.318\n",
       "10/17/2022    4.255\n",
       "10/24/2022    4.113\n",
       "10/31/2022    4.112\n",
       "Name: U.S.Average, Length: 358, dtype: float64"
      ]
     },
     "execution_count": 2,
     "metadata": {},
     "output_type": "execute_result"
    }
   ],
   "source": [
    "# create a series variable containing a read csv file, date as the index column and U.S Average column selected\n",
    "\n",
    "data = pd.read_csv('GasPrices.csv',index_col='Date')\n",
    "data = data['U.S.Average']\n",
    "\n",
    "data"
   ]
  },
  {
   "cell_type": "code",
   "execution_count": 3,
   "id": "cff28e6d",
   "metadata": {},
   "outputs": [
    {
     "data": {
      "text/plain": [
       "pandas.core.series.Series"
      ]
     },
     "execution_count": 3,
     "metadata": {},
     "output_type": "execute_result"
    }
   ],
   "source": [
    "# prove object is a series object\n",
    "\n",
    "type(data)"
   ]
  },
  {
   "cell_type": "code",
   "execution_count": 4,
   "id": "ac47b7a4",
   "metadata": {},
   "outputs": [
    {
     "data": {
      "text/plain": [
       "Date\n",
       "12/31/2018    2.496\n",
       "1/7/2019      2.465\n",
       "1/14/2019     2.466\n",
       "1/21/2019     2.468\n",
       "1/28/2019     2.458\n",
       "              ...  \n",
       "10/3/2022     4.188\n",
       "10/10/2022    4.318\n",
       "10/17/2022    4.255\n",
       "10/24/2022    4.113\n",
       "10/31/2022    4.112\n",
       "Name: U.S.Average, Length: 201, dtype: float64"
      ]
     },
     "execution_count": 4,
     "metadata": {},
     "output_type": "execute_result"
    }
   ],
   "source": [
    "# subset of the data from 12/31/2018 through 10/31/2022 inclusive\n",
    "\n",
    "data_sub = data.loc[\"12/31/2018\":\"10/31/2022\"]\n",
    "\n",
    "data_sub"
   ]
  },
  {
   "cell_type": "code",
   "execution_count": 5,
   "id": "35cfa98c",
   "metadata": {},
   "outputs": [
    {
     "data": {
      "image/png": "[encoded data removed]",
      "text/plain": [
       "<Figure size 504x216 with 1 Axes>"
      ]
     },
     "metadata": {
      "needs_background": "light"
     },
     "output_type": "display_data"
    }
   ],
   "source": [
    "# Plot the subset of data in a line graph as shown below. Set figsize on the plot to be (7,3)\n",
    "\n",
    "y_scale = np.arange(2,6,1)\n",
    "\n",
    "data_sub.plot(kind='line',figsize = (7,3), grid = True, title = \"Recent Gas Prices\", \n",
    "              ylabel = \"Price in Dollars per Gallon\", yticks = y_scale)\n",
    "plt.xticks(rotation = 90);"
   ]
  }
 ],
 "metadata": {
  "kernelspec": {
   "display_name": "Python 3 (ipykernel)",
   "language": "python",
   "name": "python3"
  },
  "language_info": {
   "codemirror_mode": {
    "name": "ipython",
    "version": 3
   },
   "file_extension": ".py",
   "mimetype": "text/x-python",
   "name": "python",
   "nbconvert_exporter": "python",
   "pygments_lexer": "ipython3",
   "version": "3.8.13"
  }
 },
 "nbformat": 4,
 "nbformat_minor": 5
}
