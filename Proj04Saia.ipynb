{
 "cells": [
  {
   "cell_type": "markdown",
   "id": "15d2bac8",
   "metadata": {},
   "source": [
    "I certify that this project is my own work and is not the work of others. I agree not to share my solution with others. - John Saia"
   ]
  },
  {
   "cell_type": "markdown",
   "id": "6744b079",
   "metadata": {},
   "source": [
    "# Linear equations with Scipy"
   ]
  },
  {
   "cell_type": "markdown",
   "id": "a15579a3",
   "metadata": {},
   "source": [
    "## Solve for v, w, x, y, and z for the following system of equations."
   ]
  },
  {
   "cell_type": "markdown",
   "id": "eb98f0fe",
   "metadata": {},
   "source": [
    " 16v +17w +12x  +66y +45z = 156<br>\n",
    " 29v -18w -15x  +73y +70z = 139<br>\n",
    "-14v +46w -27x  +58y +91z = 154<br>\n",
    " 33v +37w +24x -123y +54z =  25<br>\n",
    " 20v -27w +18x  +19y -56z = -26<br>"
   ]
  },
  {
   "cell_type": "markdown",
   "id": "972c34de",
   "metadata": {},
   "source": [
    "### Import numpy and linalg from scipy"
   ]
  },
  {
   "cell_type": "code",
   "execution_count": 9,
   "id": "81419f3c",
   "metadata": {},
   "outputs": [],
   "source": [
    "import numpy as np\n",
    "from scipy import linalg"
   ]
  },
  {
   "cell_type": "markdown",
   "id": "fae82338",
   "metadata": {},
   "source": [
    "### Create numpy arrays representing the linear equations"
   ]
  },
  {
   "cell_type": "code",
   "execution_count": 10,
   "id": "f5924b39",
   "metadata": {},
   "outputs": [
    {
     "name": "stdout",
     "output_type": "stream",
     "text": [
      "[[  16   17   12   66   45]\n",
      " [  29  -18  -15   73   70]\n",
      " [ -14   46  -27   58   91]\n",
      " [  33   37   24 -123   54]\n",
      " [  20  -27   18   19  -56]]\n"
     ]
    }
   ],
   "source": [
    "eq_array = np.array([[16, 17, 12, 66, 45],\n",
    "                     [29, -18, -15, 73, 70],\n",
    "                     [-14, 46, -27, 58, 91],\n",
    "                     [33, 37, 24, -123, 54],\n",
    "                     [20, -27, 18, 19, -56]])\n",
    "\n",
    "print(eq_array)"
   ]
  },
  {
   "cell_type": "code",
   "execution_count": 11,
   "id": "13118dd2",
   "metadata": {},
   "outputs": [
    {
     "name": "stdout",
     "output_type": "stream",
     "text": [
      "[[156]\n",
      " [139]\n",
      " [154]\n",
      " [ 25]\n",
      " [-26]]\n"
     ]
    }
   ],
   "source": [
    "eq_ans = np.array([[156],\n",
    "                   [139],\n",
    "                   [154],\n",
    "                   [25],\n",
    "                   [-26]])\n",
    "print(eq_ans)"
   ]
  },
  {
   "cell_type": "markdown",
   "id": "b4b9d483",
   "metadata": {},
   "source": [
    "### Solve the equation with np.linalg.solve()"
   ]
  },
  {
   "cell_type": "code",
   "execution_count": 12,
   "id": "c3ffedb5",
   "metadata": {},
   "outputs": [
    {
     "name": "stdout",
     "output_type": "stream",
     "text": [
      "[[1.]\n",
      " [1.]\n",
      " [1.]\n",
      " [1.]\n",
      " [1.]]\n"
     ]
    }
   ],
   "source": [
    "result = np.linalg.solve(eq_array,eq_ans)\n",
    "print(result)"
   ]
  },
  {
   "cell_type": "markdown",
   "id": "14f726a1",
   "metadata": {},
   "source": [
    "### Confirm the solution by getting the product of eq_array matrix and solution matrix equaling eq_ans array"
   ]
  },
  {
   "cell_type": "code",
   "execution_count": 13,
   "id": "8f453567",
   "metadata": {},
   "outputs": [
    {
     "name": "stdout",
     "output_type": "stream",
     "text": [
      "[[156.]\n",
      " [139.]\n",
      " [154.]\n",
      " [ 25.]\n",
      " [-26.]]\n"
     ]
    }
   ],
   "source": [
    "print(eq_array.dot(result))"
   ]
  },
  {
   "cell_type": "markdown",
   "id": "fa49ec4b",
   "metadata": {},
   "source": [
    "### Solution"
   ]
  },
  {
   "cell_type": "markdown",
   "id": "1da0367b",
   "metadata": {},
   "source": [
    "v = 1<br>\n",
    "w = 1<br>\n",
    "x = 1<br>\n",
    "y = 1<br>\n",
    "z = 1<br>"
   ]
  }
 ],
 "metadata": {
  "kernelspec": {
   "display_name": "Python 3 (ipykernel)",
   "language": "python",
   "name": "python3"
  },
  "language_info": {
   "codemirror_mode": {
    "name": "ipython",
    "version": 3
   },
   "file_extension": ".py",
   "mimetype": "text/x-python",
   "name": "python",
   "nbconvert_exporter": "python",
   "pygments_lexer": "ipython3",
   "version": "3.8.13"
  }
 },
 "nbformat": 4,
 "nbformat_minor": 5
}
