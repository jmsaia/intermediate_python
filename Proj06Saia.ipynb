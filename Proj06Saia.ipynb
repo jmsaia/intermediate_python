{
 "cells": [
  {
   "cell_type": "markdown",
   "id": "aa6d96a7",
   "metadata": {},
   "source": [
    "I certify that this project is my own work and is not the work of others. I agree not to share my solution with others. - John Saia"
   ]
  },
  {
   "cell_type": "code",
   "execution_count": 1,
   "id": "dfb88586",
   "metadata": {},
   "outputs": [],
   "source": [
    "# import pandas, numpy, and matplotlib libraries\n",
    "\n",
    "import pandas as pd\n",
    "import numpy as np\n",
    "import matplotlib.pyplot as plt"
   ]
  },
  {
   "cell_type": "code",
   "execution_count": 2,
   "id": "b5c4ac84",
   "metadata": {},
   "outputs": [],
   "source": [
    "# read csv from files into a series variable, indexed by grain\n",
    "\n",
    "load1 = pd.read_csv('load01.csv',index_col='Grain')\n",
    "load1 = load1['Weight']\n",
    "load2 = pd.read_csv('load02.csv',index_col='Grain')\n",
    "load2 = load2['Weight']"
   ]
  },
  {
   "cell_type": "code",
   "execution_count": 3,
   "id": "9b58a3d9",
   "metadata": {},
   "outputs": [
    {
     "data": {
      "text/plain": [
       "Grain\n",
       "Corn     1000\n",
       "Wheat    2000\n",
       "Rice     3000\n",
       "Name: Weight, dtype: int64"
      ]
     },
     "execution_count": 3,
     "metadata": {},
     "output_type": "execute_result"
    }
   ],
   "source": [
    "# display load1 series\n",
    "\n",
    "load1"
   ]
  },
  {
   "cell_type": "code",
   "execution_count": 4,
   "id": "e774a3e7",
   "metadata": {},
   "outputs": [
    {
     "data": {
      "text/plain": [
       "Grain\n",
       "Corn     3000\n",
       "Wheat    2000\n",
       "Rice     1000\n",
       "Name: Weight, dtype: int64"
      ]
     },
     "execution_count": 4,
     "metadata": {},
     "output_type": "execute_result"
    }
   ],
   "source": [
    "# display load2 series\n",
    "\n",
    "load2"
   ]
  },
  {
   "cell_type": "code",
   "execution_count": 5,
   "id": "7c57f6e7",
   "metadata": {},
   "outputs": [
    {
     "data": {
      "text/plain": [
       "(array([0, 1, 2]),\n",
       " [Text(0, 0, 'Corn'), Text(1, 0, 'Wheat'), Text(2, 0, 'Rice')])"
      ]
     },
     "execution_count": 5,
     "metadata": {},
     "output_type": "execute_result"
    },
    {
     "data": {
      "image/png": "[encoded data removed]",
      "text/plain": [
       "<Figure size 432x288 with 1 Axes>"
      ]
     },
     "metadata": {
      "needs_background": "light"
     },
     "output_type": "display_data"
    }
   ],
   "source": [
    "# display load1 as a bar chart\n",
    "\n",
    "load1.plot.bar(grid = True, title = \"load1\", ylabel = \"Weight in pounds\")\n",
    "plt.xticks(rotation = 0)"
   ]
  },
  {
   "cell_type": "code",
   "execution_count": 6,
   "id": "795aa540",
   "metadata": {},
   "outputs": [
    {
     "data": {
      "text/plain": [
       "(array([0, 1, 2]),\n",
       " [Text(0, 0, 'Corn'), Text(1, 0, 'Wheat'), Text(2, 0, 'Rice')])"
      ]
     },
     "execution_count": 6,
     "metadata": {},
     "output_type": "execute_result"
    },
    {
     "data": {
      "image/png": "[encoded data removed]",
      "text/plain": [
       "<Figure size 432x288 with 1 Axes>"
      ]
     },
     "metadata": {
      "needs_background": "light"
     },
     "output_type": "display_data"
    }
   ],
   "source": [
    "# display load2 as a bar chart\n",
    "\n",
    "load2.plot.bar(grid = True, title = \"load2\", ylabel = \"Weight in pounds\")\n",
    "plt.xticks(rotation = 0)"
   ]
  },
  {
   "cell_type": "code",
   "execution_count": 7,
   "id": "9c611fa2",
   "metadata": {
    "scrolled": true
   },
   "outputs": [
    {
     "data": {
      "text/plain": [
       "Grain\n",
       "Corn    -2000\n",
       "Wheat       0\n",
       "Rice     2000\n",
       "Name: Weight, dtype: int64"
      ]
     },
     "execution_count": 7,
     "metadata": {},
     "output_type": "execute_result"
    }
   ],
   "source": [
    "# create load3 by using an operation (subtracting) and display\n",
    "\n",
    "load3 = load1 - load2\n",
    "load3"
   ]
  },
  {
   "cell_type": "code",
   "execution_count": 8,
   "id": "e91031b6",
   "metadata": {},
   "outputs": [
    {
     "data": {
      "text/plain": [
       "(array([0, 1, 2]),\n",
       " [Text(0, 0, 'Corn'), Text(1, 0, 'Wheat'), Text(2, 0, 'Rice')])"
      ]
     },
     "execution_count": 8,
     "metadata": {},
     "output_type": "execute_result"
    },
    {
     "data": {
      "image/png": "[encoded data removed]",
      "text/plain": [
       "<Figure size 432x288 with 1 Axes>"
      ]
     },
     "metadata": {
      "needs_background": "light"
     },
     "output_type": "display_data"
    }
   ],
   "source": [
    "# create a load3 bar graph\n",
    "\n",
    "scale = np.arange(-2000,2001,1000)\n",
    "load3.plot.bar(grid = True, title = \"John Saia\", yticks = scale, ylabel = \"Weight in pounds\")\n",
    "plt.xticks(rotation = 0)"
   ]
  }
 ],
 "metadata": {
  "kernelspec": {
   "display_name": "Python 3 (ipykernel)",
   "language": "python",
   "name": "python3"
  },
  "language_info": {
   "codemirror_mode": {
    "name": "ipython",
    "version": 3
   },
   "file_extension": ".py",
   "mimetype": "text/x-python",
   "name": "python",
   "nbconvert_exporter": "python",
   "pygments_lexer": "ipython3",
   "version": "3.8.13"
  }
 },
 "nbformat": 4,
 "nbformat_minor": 5
}
