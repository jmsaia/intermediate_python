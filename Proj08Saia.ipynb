{
 "cells": [
  {
   "cell_type": "markdown",
   "id": "a6e503ee",
   "metadata": {},
   "source": [
    "I certify that this project is my own work and is not the work of others. I agree not to share my solution with others. - John Saia"
   ]
  },
  {
   "cell_type": "code",
   "execution_count": 1,
   "id": "1ddea194",
   "metadata": {},
   "outputs": [],
   "source": [
    "# Enable inline plotting and import needed libaries\n",
    "\n",
    "%matplotlib inline\n",
    "\n",
    "import pandas as pd\n",
    "import numpy as np\n",
    "import datetime as dt\n",
    "import matplotlib.pyplot as plt"
   ]
  },
  {
   "cell_type": "code",
   "execution_count": 2,
   "id": "95095245",
   "metadata": {},
   "outputs": [
    {
     "data": {
      "text/plain": [
       "Date\n",
       "12/28/2015    2.244\n",
       "1/4/2016      2.250\n",
       "1/11/2016     2.224\n",
       "1/18/2016     2.131\n",
       "1/25/2016     2.076\n",
       "              ...  \n",
       "10/3/2022     4.188\n",
       "10/10/2022    4.318\n",
       "10/17/2022    4.255\n",
       "10/24/2022    4.113\n",
       "10/31/2022    4.112\n",
       "Name: U.S.Average, Length: 358, dtype: float64"
      ]
     },
     "execution_count": 2,
     "metadata": {},
     "output_type": "execute_result"
    }
   ],
   "source": [
    "# create a series variable containing a read csv file, date as the index column and U.S Average column selected\n",
    "\n",
    "data = pd.read_csv('GasPrices.csv',index_col='Date')\n",
    "data = data['U.S.Average']\n",
    "data"
   ]
  },
  {
   "cell_type": "code",
   "execution_count": 3,
   "id": "28286188",
   "metadata": {},
   "outputs": [
    {
     "data": {
      "text/plain": [
       "pandas.core.series.Series"
      ]
     },
     "execution_count": 3,
     "metadata": {},
     "output_type": "execute_result"
    }
   ],
   "source": [
    "# prove object is a series object\n",
    "\n",
    "type(data)"
   ]
  },
  {
   "cell_type": "code",
   "execution_count": 4,
   "id": "49f8b1e9",
   "metadata": {},
   "outputs": [
    {
     "data": {
      "text/plain": [
       "Date\n",
       "12/28/2015   -1\n",
       "1/4/2016     -1\n",
       "1/11/2016    -1\n",
       "1/18/2016    -1\n",
       "1/25/2016    -1\n",
       "             ..\n",
       "10/3/2022     1\n",
       "10/10/2022    1\n",
       "10/17/2022    1\n",
       "10/24/2022    1\n",
       "10/31/2022    1\n",
       "Name: U.S.Average, Length: 358, dtype: int64"
      ]
     },
     "execution_count": 4,
     "metadata": {},
     "output_type": "execute_result"
    }
   ],
   "source": [
    "# Use the Pandas series method named apply() to change the price values in the series to either\n",
    "# -1, 0, or 1 by comparing the prices to $3.00 per gallon. Prices less that $3.00 must be changed to -1. \n",
    "# Prices equal to $3.00 per gallon must be changed to 0. Prices greater than $3.00 per gallon must be changed to 1.\n",
    "\n",
    "data_apply = data.apply(lambda x: -1 if x < 3.00 else 0 if x == 3.00 else 1)\n",
    "\n",
    "data_apply"
   ]
  },
  {
   "cell_type": "code",
   "execution_count": 6,
   "id": "073e5b09",
   "metadata": {},
   "outputs": [
    {
     "data": {
      "image/png": "[encoded data removed]",
      "text/plain": [
       "<Figure size 504x216 with 1 Axes>"
      ]
     },
     "metadata": {
      "needs_background": "light"
     },
     "output_type": "display_data"
    }
   ],
   "source": [
    "# Select a subset of the data from 12/28/2015 to 9/12/2022 inclusive. \n",
    "# Plot the modified data in the subset as a line graph as shown below. Set figsize on the plot to (7,3).\n",
    "\n",
    "y_scale = np.arange(-1,2,1)\n",
    "\n",
    "data_apply_set = data_apply[\"12/28/2015\":\"9/12/2022\"]\n",
    "\n",
    "data_apply_set.plot(kind='line',figsize = (7,3), grid = True,\n",
    "                    title = \"Gas prices above and below $3.00 per gallon\", \n",
    "                    ylabel = \"Above = 1, below = -1\", yticks = y_scale)\n",
    "plt.xticks(rotation = 90);"
   ]
  }
 ],
 "metadata": {
  "kernelspec": {
   "display_name": "Python 3 (ipykernel)",
   "language": "python",
   "name": "python3"
  },
  "language_info": {
   "codemirror_mode": {
    "name": "ipython",
    "version": 3
   },
   "file_extension": ".py",
   "mimetype": "text/x-python",
   "name": "python",
   "nbconvert_exporter": "python",
   "pygments_lexer": "ipython3",
   "version": "3.8.13"
  }
 },
 "nbformat": 4,
 "nbformat_minor": 5
}
