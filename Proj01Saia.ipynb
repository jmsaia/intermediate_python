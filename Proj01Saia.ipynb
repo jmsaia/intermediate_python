{
 "cells": [
  {
   "cell_type": "markdown",
   "id": "aac9e924",
   "metadata": {},
   "source": [
    "# Proj01"
   ]
  },
  {
   "cell_type": "markdown",
   "id": "743a0956",
   "metadata": {},
   "source": [
    "Among other things, this project requires that you understand:\n",
    "\n",
    "- Links to internal anchors\n",
    "- Links to external websites\n",
    "- Blockquotes\n",
    "- Headers\n",
    "- Inline code\n",
    "- Italic text\n",
    "- Bold text\n",
    "- Bold and Italic text\n",
    "- Raw html"
   ]
  },
  {
   "cell_type": "markdown",
   "id": "c1c9867c",
   "metadata": {},
   "source": [
    "# Table of Contents"
   ]
  },
  {
   "cell_type": "markdown",
   "id": "de6ee70c",
   "metadata": {},
   "source": [
    "Your program must successfully jump to the header associated with each of the following \n",
    "hyperlinks. Note in particular the requirement to successfully handle the hyperlink to a \n",
    "duplicated header. When replicating this Table of Contents, set the indentation level for each\n",
    "line based on the size of the header that appears later."
   ]
  },
  {
   "cell_type": "markdown",
   "id": "eb1b7929",
   "metadata": {},
   "source": [
    "- [Certification](#Certification)\n",
    "- [This is a header](#This-is-a-header)\n",
    " - [This is a header](#ID01)\n",
    " - [This is another header](#This-is-another-header)\n",
    "- [Link to an external website](#Link-to-an-external-website)\n",
    "- [Link to an internal anchor](#Link-to-an-internal-anchor)\n",
    "- [Escape characters and inline monospace](#Escape-characters-and-inline-monospace)\n",
    "- [Headers](#Headers)\n",
    "- [Bold and Italic text](#Bold-and-Italic-text)\n",
    " - [Bold text](#Bold-text)\n",
    " - [Italic text](#Italic-text)\n",
    " - [Bold/Italic text](#Bold/Italic-text)"
   ]
  },
  {
   "cell_type": "markdown",
   "id": "3c832ee5",
   "metadata": {},
   "source": [
    "# Certification"
   ]
  },
  {
   "cell_type": "markdown",
   "id": "ae66f7f1",
   "metadata": {},
   "source": [
    "Your output file must contain the following certification:\n",
    "\n",
    "I certify that this project is my own work and is not the work of others. I agree not to share my solution with others. - John Saia"
   ]
  },
  {
   "cell_type": "markdown",
   "id": "df25b8a4",
   "metadata": {},
   "source": [
    "# This is a header"
   ]
  },
  {
   "cell_type": "markdown",
   "id": "a56b1d53",
   "metadata": {},
   "source": [
    "A blockquote is created by inserting a right angle bracket, >, and a space at the left end of the text to be included in the blockquote. If you don't understand this, please ask your instructor for assistance.\n",
    "\n",
    "Create a blockquote containing the following text solely for the purpose of inserting space between the headers.\n",
    "\n",
    ">You learned in your study of online Jupyter Notebook tutorials that the notebook has Code cells and Markdown cells. Since you knew how to program in Python before enrolling in this course, entering Python code into Code cells is straightforward. You simply enter the code much as you would when writing Python code into a text editor or an IDE."
   ]
  },
  {
   "cell_type": "markdown",
   "id": "d4503235",
   "metadata": {},
   "source": [
    "### <a id=\"ID01\"></a> <font color=blue>This is a header </font>"
   ]
  },
  {
   "cell_type": "markdown",
   "id": "ee230baf",
   "metadata": {},
   "source": [
    "If this header displays in a different color on your system, that is because it is treated differently from all the rest to compensate for the fact that it is a duplicate header.\n",
    "\n",
    "Create a <a id=\"ID02\"></a>_**blockquote**_ containing the following text solely for the purpose of inserting space between the headers.\n",
    "\n",
    ">You learned in your study of online Jupyter Notebook tutorials that the notebook has Code cells and Markdown cells. Since you knew how to program in Python before enrolling in this course, entering Python code into Code cells is straightforward. You simply enter the code much as you would when writing Python code into a text editor or an IDE."
   ]
  },
  {
   "cell_type": "markdown",
   "id": "34131dee",
   "metadata": {},
   "source": [
    "### This is another header"
   ]
  },
  {
   "cell_type": "markdown",
   "id": "11283355",
   "metadata": {},
   "source": [
    "Create a blockquote containing the following text solely for the purpose of inserting space between the headers.\n",
    "\n",
    ">You learned in your study of online Jupyter Notebook tutorials that the notebook has Code cells and Markdown cells. Since you knew how to program in Python before enrolling in this course, entering Python code into Code cells is straightforward. You simply enter the code much as you would when writing Python code into a text editor or an IDE."
   ]
  },
  {
   "cell_type": "markdown",
   "id": "d4549215",
   "metadata": {},
   "source": [
    "# Link to an external website"
   ]
  },
  {
   "cell_type": "markdown",
   "id": "29947f4a",
   "metadata": {},
   "source": [
    "Click __[here](https://www.austincc.edu)__ to jump to the main ACC website."
   ]
  },
  {
   "cell_type": "markdown",
   "id": "5849b69b",
   "metadata": {},
   "source": [
    "# Link to an internal anchor"
   ]
  },
  {
   "cell_type": "markdown",
   "id": "8df50d76",
   "metadata": {},
   "source": [
    "Click [here](#ID02) to jump to the word **blockquote** following the second instance of the header that reads **This is a header**."
   ]
  },
  {
   "cell_type": "markdown",
   "id": "d6636625",
   "metadata": {},
   "source": [
    "# Escape characters and inline monospace"
   ]
  },
  {
   "cell_type": "markdown",
   "id": "7becdd59",
   "metadata": {},
   "source": [
    "Duplicate the following two lines.\n",
    "\n",
    "I love the asterisk, \\*, character.\n",
    "\n",
    "`I love the asterisk, *, character.`"
   ]
  },
  {
   "cell_type": "markdown",
   "id": "6fd60a7e",
   "metadata": {},
   "source": [
    "# Headers"
   ]
  },
  {
   "cell_type": "markdown",
   "id": "5c2b3cec",
   "metadata": {},
   "source": [
    "As you are aware, headers make heavy use of the # character."
   ]
  },
  {
   "cell_type": "markdown",
   "id": "dc114fa3",
   "metadata": {},
   "source": [
    "# Bold and Italic text"
   ]
  },
  {
   "cell_type": "markdown",
   "id": "03c83f17",
   "metadata": {},
   "source": [
    "### Bold text"
   ]
  },
  {
   "cell_type": "markdown",
   "id": "f73bc0e0",
   "metadata": {},
   "source": [
    "Display **bold text** as bold."
   ]
  },
  {
   "cell_type": "markdown",
   "id": "1e365744",
   "metadata": {},
   "source": [
    "### Italic text"
   ]
  },
  {
   "cell_type": "markdown",
   "id": "b4dbd797",
   "metadata": {},
   "source": [
    "Display *italic text* as italic"
   ]
  },
  {
   "cell_type": "markdown",
   "id": "38e7b7b3",
   "metadata": {},
   "source": [
    "### Bold/Italic text"
   ]
  },
  {
   "cell_type": "markdown",
   "id": "8ac6c770",
   "metadata": {},
   "source": [
    "Display _**bold and italic text**_ as both bold and italic."
   ]
  },
  {
   "cell_type": "markdown",
   "id": "e4dc2002",
   "metadata": {},
   "source": [
    "\\# The End #"
   ]
  },
  {
   "cell_type": "markdown",
   "id": "b434d30a",
   "metadata": {},
   "source": [
    "Create a blockquote containing the following text solely for adding length to the page. This is necessary to make it possible to confirm that the links in the Table of contents jump to proper headers."
   ]
  },
  {
   "cell_type": "markdown",
   "id": "09759d27",
   "metadata": {},
   "source": [
    ">Markdown allows you to create headers of varying sizes much like you would typically see on an HTML web page. In fact, the word Headers that you see above this paragraph is a header. It is easy to create a header. Just type one or more hashtag # characters and a space at the beginning of a line before a word or group of words. Then terminate the header by advancing to a new line. The more hashtag characters you type, the smaller will be the header. A single hashtag produces the largest possible header. Examples of several headers are shown below. Note that once you reach five hashtag characters, the size of the text doesn't seem to change much but the font automatically changes to Italic. Also note that the limit is six levels of headings. Once you reach seven hashtag characters, the text is no longer rendered as a header. Instead, it is rendered as plain text with seven hashtag characters in the Jupyter Notebook display. (When the notebook is downloaded as HTML and opened in Firefox or Chrome, it is rendered as plain text with a single hashtag character showing.) Markdown allows you to create headers of varying sizes much like you would typically see on an HTML web page. In fact, the word Headers that you see above this paragraph is a header. It is easy to create a header. Just type one or more hashtag # characters and a space at the beginning of a line before a word or group of words. Then terminate the header by advancing to a new line. The more hashtag characters you type, the smaller will be the header. A single hashtag produces the largest possible header. Examples of several headers are shown below. Note that once you reach five hashtag characters, the size of the text doesn't seem to change much but the font automatically changes to Italic. Also note that the limit is six levels of headings. Once you reach seven hashtag characters, the text is no longer rendered as a header. Instead, it is rendered as plain text with seven hashtag characters in the Jupyter Notebook display. (When the notebook is downloaded as HTML and opened in Firefox or Chrome, it is rendered as plain text with a single hashtag character showing.)"
   ]
  }
 ],
 "metadata": {
  "kernelspec": {
   "display_name": "Python 3 (ipykernel)",
   "language": "python",
   "name": "python3"
  },
  "language_info": {
   "codemirror_mode": {
    "name": "ipython",
    "version": 3
   },
   "file_extension": ".py",
   "mimetype": "text/x-python",
   "name": "python",
   "nbconvert_exporter": "python",
   "pygments_lexer": "ipython3",
   "version": "3.8.13"
  }
 },
 "nbformat": 4,
 "nbformat_minor": 5
}
